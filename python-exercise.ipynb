{
  "nbformat": 4,
  "nbformat_minor": 0,
  "metadata": {
    "colab": {
      "name": "Untitled2.ipynb",
      "provenance": [],
      "collapsed_sections": [],
      "authorship_tag": "ABX9TyPR80oG/jWszAPBpLn/xkZk",
      "include_colab_link": true
    },
    "kernelspec": {
      "display_name": "Python 3",
      "name": "python3"
    },
    "language_info": {
      "name": "python"
    }
  },
  "cells": [
    {
      "cell_type": "markdown",
      "metadata": {
        "id": "view-in-github",
        "colab_type": "text"
      },
      "source": [
        "<a href=\"https://colab.research.google.com/github/xiaohua2003/Database-python/blob/master/python-exercise.ipynb\" target=\"_parent\"><img src=\"https://colab.research.google.com/assets/colab-badge.svg\" alt=\"Open In Colab\"/></a>"
      ]
    },
    {
      "cell_type": "code",
      "metadata": {
        "colab": {
          "base_uri": "https://localhost:8080/"
        },
        "id": "te3pbxN8hkc2",
        "outputId": "3b7460b5-0e72-4d1e-9be9-ef87577287af"
      },
      "source": [
        "def isPrime(x):\n",
        "    \"\"\"Returns whether or not the given number x is prime.\n",
        "\n",
        "    A prime number is a natural number greater than 1 that cannot be formed\n",
        "    by multiplying two smaller natural numbers.\n",
        "\n",
        "    For example:\n",
        "    - Calling isPrime(11) will return True\n",
        "    - Calling isPrime(71) will return True\n",
        "    - Calling isPrime(12) will return False\n",
        "    - Calling isPrime(76) will return False\n",
        "    \"\"\"\n",
        "    \n",
        "    # your code here\n",
        "    if x>1:\n",
        "        # check for factors\n",
        "        for i in range(2, x):\n",
        "            if(x%i)==0:\n",
        "                return False\n",
        "                break\n",
        "        else:\n",
        "            return True\n",
        "               \n",
        "    # if x is equal or less than 1, it is not a prime number.\n",
        "    else:\n",
        "        return False\n",
        "isPrime(76)"
      ],
      "execution_count": null,
      "outputs": [
        {
          "output_type": "execute_result",
          "data": {
            "text/plain": [
              "False"
            ]
          },
          "metadata": {
            "tags": []
          },
          "execution_count": 34
        }
      ]
    },
    {
      "cell_type": "code",
      "metadata": {
        "id": "SQTeNwpERY80",
        "outputId": "13103dc6-b677-474e-ae8f-9c89d213fc4e",
        "colab": {
          "base_uri": "https://localhost:8080/",
          "height": 335
        }
      },
      "source": [
        "def import_and_create_bank(filename):\n",
        "    '''\n",
        "    This function is used to create a bank dictionary.  The given argument is the filename to load.\n",
        "    Every line in the file should be in the following format:\n",
        "        key: value\n",
        "    The key is a user's name and the value is an amount to update the user's bank account with.  The value should be a\n",
        "    number, however, it is possible that there is no value or that the value is an invalid number.\n",
        "\n",
        "    What you will do:\n",
        "    - Create an empty bank dictionary.\n",
        "    - Read in the file.\n",
        "    - Add keys and values to the dictionary from the contents of the file.\n",
        "    - If the key doesn't exist in the dictionary, create a new key:value pair.\n",
        "    - If the key does exist in the dictionary, increment its value with the amount.\n",
        "    - You should also handle the following cases:\n",
        "    -- When the value is missing or invalid.  If so, ignore that line and don't update the dictionary.\n",
        "    -- When the line is completely blank.  Again, ignore that line and don't update the dictionary.\n",
        "    -- When there is whitespace at the beginning or end of a line and/or between the name and value on a line.  You\n",
        "    should trim any and all whitespace.\n",
        "    - Return the bank dictionary from this function.\n",
        "\n",
        "    For example, here's how your code should handle some specific lines in the file:\n",
        "    The 1st line in the file has a name and valid number:\n",
        "        Brandon: 5\n",
        "    Your code will process this line and add the extracted information to the dictionary.  After it does,\n",
        "    the dictionary will look like this:\n",
        "        bank = {\"Brandon\": 5}\n",
        "\n",
        "    The 2nd line in the file also has a name and valid number:\n",
        "        Patrick: 18.9\n",
        "    Your code will also process this line and add the extracted information to the dictionary.  After it does,\n",
        "    the dictionary will look like this:\n",
        "        bank = {\"Brandon\": 5, \"Patrick\": 18.9}\n",
        "\n",
        "    The 3rd line in the file has a name but invalid number:\n",
        "        Brandon: xyz\n",
        "    Your code will ignore this line and add nothing to the dictionary.  It will still look like this:\n",
        "        bank = {\"Brandon\": 5, \"Patrick\": 18.9}\n",
        "\n",
        "    The 4th line in the file has a name but missing number:\n",
        "        Jack:\n",
        "    Your code will ignore this line and add nothing to the dictionary.  It will still look like this:\n",
        "        bank = {\"Brandon\": 5, \"Patrick\": 18.9}\n",
        "\n",
        "    The 5th line in the file is completely blank.\n",
        "    Your code will ignore this line and add nothing to the dictionary.  It will still look like this:\n",
        "        bank = {\"Brandon\": 5, \"Patrick\": 18.9}\n",
        "\n",
        "    The 8th line in the file has a name and valid number, but with extra whitespace:\n",
        "        Brandon:       10\n",
        "    Your code will process this line and update the value associated with the existing key ('Brandon') in the dictionary.\n",
        "    After it does, the value associated with the key 'Brandon' will be 10:\n",
        "        bank = {\"Brandon\": 15, ...}\n",
        "\n",
        "    After processing every line in the file, the dictionary will look like this:\n",
        "        bank = {\"Brandon\": 115.5, \"Patrick\": 18.9, \"Sarah\": 827.43, \"Jack\": 45.0, \"James\": 128.87}\n",
        "    Return the dictionary from this function.\n",
        "    '''\n",
        "\n",
        "    bank = {}\n",
        "\n",
        "    # your code here\n",
        "    #open the file and read\n",
        "    f=open(filename,'r')\n",
        "    #read all the lines in the file\n",
        "    lines=f.readlines()\n",
        "    #iterate each line in the list of lines\n",
        "    for line in lines:\n",
        "        #strip the white-space at the begining and ending of line. Split the line into list based on \":\"\n",
        "        lst=line.strip().split(\":\")\n",
        "        #ignore the blank line and the line does not have value\n",
        "        if len(lst) <=1:\n",
        "            continue\n",
        "        #get key and value from the line\n",
        "        key=lst[0].strip()\n",
        "        value=lst[1].strip()\n",
        "        #try to skip the value is not numeric\n",
        "        try:\n",
        "            value=float(value)\n",
        "            #get current value of key and add back the original key value balance\n",
        "            bank[key]=bank.get(key, 0)+value\n",
        "        except:\n",
        "            continue  \n",
        "    f.close()\n",
        "  \n",
        "\n",
        "    return bank\n",
        "print(import_and_create_bank(\"bank.txt\"))"
      ],
      "execution_count": 1,
      "outputs": [
        {
          "output_type": "error",
          "ename": "FileNotFoundError",
          "evalue": "ignored",
          "traceback": [
            "\u001b[0;31m---------------------------------------------------------------------------\u001b[0m",
            "\u001b[0;31mFileNotFoundError\u001b[0m                         Traceback (most recent call last)",
            "\u001b[0;32m<ipython-input-1-b49a008f3ad6>\u001b[0m in \u001b[0;36m<module>\u001b[0;34m()\u001b[0m\n\u001b[1;32m     86\u001b[0m \u001b[0;34m\u001b[0m\u001b[0m\n\u001b[1;32m     87\u001b[0m     \u001b[0;32mreturn\u001b[0m \u001b[0mbank\u001b[0m\u001b[0;34m\u001b[0m\u001b[0;34m\u001b[0m\u001b[0m\n\u001b[0;32m---> 88\u001b[0;31m \u001b[0mprint\u001b[0m\u001b[0;34m(\u001b[0m\u001b[0mimport_and_create_bank\u001b[0m\u001b[0;34m(\u001b[0m\u001b[0;34m\"bank.txt\"\u001b[0m\u001b[0;34m)\u001b[0m\u001b[0;34m)\u001b[0m\u001b[0;34m\u001b[0m\u001b[0;34m\u001b[0m\u001b[0m\n\u001b[0m",
            "\u001b[0;32m<ipython-input-1-b49a008f3ad6>\u001b[0m in \u001b[0;36mimport_and_create_bank\u001b[0;34m(filename)\u001b[0m\n\u001b[1;32m     62\u001b[0m     \u001b[0;31m# your code here\u001b[0m\u001b[0;34m\u001b[0m\u001b[0;34m\u001b[0m\u001b[0;34m\u001b[0m\u001b[0m\n\u001b[1;32m     63\u001b[0m     \u001b[0;31m#open the file and read\u001b[0m\u001b[0;34m\u001b[0m\u001b[0;34m\u001b[0m\u001b[0;34m\u001b[0m\u001b[0m\n\u001b[0;32m---> 64\u001b[0;31m     \u001b[0mf\u001b[0m\u001b[0;34m=\u001b[0m\u001b[0mopen\u001b[0m\u001b[0;34m(\u001b[0m\u001b[0mfilename\u001b[0m\u001b[0;34m,\u001b[0m\u001b[0;34m'r'\u001b[0m\u001b[0;34m)\u001b[0m\u001b[0;34m\u001b[0m\u001b[0;34m\u001b[0m\u001b[0m\n\u001b[0m\u001b[1;32m     65\u001b[0m     \u001b[0;31m#read all the lines in the file\u001b[0m\u001b[0;34m\u001b[0m\u001b[0;34m\u001b[0m\u001b[0;34m\u001b[0m\u001b[0m\n\u001b[1;32m     66\u001b[0m     \u001b[0mlines\u001b[0m\u001b[0;34m=\u001b[0m\u001b[0mf\u001b[0m\u001b[0;34m.\u001b[0m\u001b[0mreadlines\u001b[0m\u001b[0;34m(\u001b[0m\u001b[0;34m)\u001b[0m\u001b[0;34m\u001b[0m\u001b[0;34m\u001b[0m\u001b[0m\n",
            "\u001b[0;31mFileNotFoundError\u001b[0m: [Errno 2] No such file or directory: 'bank.txt'"
          ]
        }
      ]
    },
    {
      "cell_type": "code",
      "metadata": {
        "colab": {
          "base_uri": "https://localhost:8080/"
        },
        "id": "bu-B304Covmt",
        "outputId": "e5a740f5-b8b4-4c47-baa9-fee8d1279de2"
      },
      "source": [
        "def isComposite(x):\n",
        "    \"\"\"Returns whether or not the given number x is composite.\n",
        "\n",
        "    A composite number has more than 2 factors.\n",
        "    A natural number greater than 1 that is not prime is called a composite number.\n",
        "    Note, the number 1 is neither prime nor composite.\n",
        "\n",
        "    For example:\n",
        "    - Calling isComposite(9) will return True\n",
        "    - Calling isComposite(22) will return True\n",
        "    - Calling isComposite(3) will return False\n",
        "    - Calling isComposite(41) will return False\n",
        "    \"\"\"\n",
        "    \n",
        "    # your code here\n",
        "    if x>1:\n",
        "        #check for factors\n",
        "        for i in range(2, x):\n",
        "            if (x % i) == 0:\n",
        "                return True\n",
        "                break\n",
        "        else:\n",
        "            return False\n",
        "    else:\n",
        "        #x is less than or equal to 1 is not a composite\n",
        "        return False\n",
        "isComposite(41)"
      ],
      "execution_count": null,
      "outputs": [
        {
          "output_type": "execute_result",
          "data": {
            "text/plain": [
              "False"
            ]
          },
          "metadata": {
            "tags": []
          },
          "execution_count": 32
        }
      ]
    }
  ]
}