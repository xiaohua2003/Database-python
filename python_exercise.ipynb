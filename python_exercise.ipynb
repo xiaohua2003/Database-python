{
  "nbformat": 4,
  "nbformat_minor": 0,
  "metadata": {
    "colab": {
      "name": "python-exercise.ipynb",
      "provenance": [],
      "collapsed_sections": [],
      "authorship_tag": "ABX9TyNbaon3Ef3S6Yi4MD0ufNVb",
      "include_colab_link": true
    },
    "kernelspec": {
      "display_name": "Python 3",
      "name": "python3"
    },
    "language_info": {
      "name": "python"
    }
  },
  "cells": [
    {
      "cell_type": "markdown",
      "metadata": {
        "id": "view-in-github",
        "colab_type": "text"
      },
      "source": [
        "<a href=\"https://colab.research.google.com/github/xiaohua2003/Database-python/blob/master/python_exercise.ipynb\" target=\"_parent\"><img src=\"https://colab.research.google.com/assets/colab-badge.svg\" alt=\"Open In Colab\"/></a>"
      ]
    },
    {
      "cell_type": "code",
      "metadata": {
        "colab": {
          "base_uri": "https://localhost:8080/"
        },
        "id": "kxW2OXA0TyXC",
        "outputId": "12c99c16-de23-4faf-f6ba-986316c7a0ba"
      },
      "source": [
        "def capitalize_or_join_words(sentence):\n",
        "    \"\"\"\n",
        "    If the given sentence starts with *, capitalizes the first and last letters of each word in the sentence,\n",
        "    and returns the sentence without *.\n",
        "    Else, joins all the words in the given sentence, separating them with a comma, and returns the result.\n",
        "\n",
        "    For example:\n",
        "    - If we call capitalize_or_join_words(\"*i love python\"), we'll get \"I LovE PythoN\" in return.\n",
        "    - If we call capitalize_or_join_words(\"i love python\"), we'll get \"i,love,python\" in return.\n",
        "    - If we call capitalize_or_join_words(\"i love    python  \"), we'll get \"i,love,python\" in return.\n",
        "\n",
        "    Hint(s):\n",
        "    - The startswith() function checks whether a string starts with a particualr character\n",
        "    - The capitalize() function capitalizes the first letter of a string\n",
        "    - The upper() function converts all lowercase characters in a string to uppercase\n",
        "    - The join() function creates a single string from a list of multiple strings\n",
        "    \"\"\"\n",
        "    # your code here\n",
        "    if sentence.startswith(\"*\"):\n",
        "        sentence=sentence.title()\n",
        "        result=\"\"\n",
        "        for word in sentence.split():\n",
        "            result += word[:-1] + word[-1].upper() + \" \"\n",
        "        return result[1:] \n",
        "    else:\n",
        "        result=\"\"\n",
        "        for word in sentence.split():\n",
        "            result += word+ \",\"\n",
        "        return result       \n",
        "print(capitalize_or_join_words(\"i love python\"))\n",
        "    \n",
        "    "
      ],
      "execution_count": 92,
      "outputs": [
        {
          "output_type": "stream",
          "text": [
            "i,love,python,\n"
          ],
          "name": "stdout"
        }
      ]
    },
    {
      "cell_type": "code",
      "metadata": {
        "id": "XCqXQygazpew"
      },
      "source": [
        ""
      ],
      "execution_count": null,
      "outputs": []
    },
    {
      "cell_type": "code",
      "metadata": {
        "id": "42rcEelCyRZt"
      },
      "source": [
        ""
      ],
      "execution_count": null,
      "outputs": []
    }
  ]
}