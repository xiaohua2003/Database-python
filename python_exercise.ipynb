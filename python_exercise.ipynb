{
  "nbformat": 4,
  "nbformat_minor": 0,
  "metadata": {
    "colab": {
      "name": "python-exercise.ipynb",
      "provenance": [],
      "collapsed_sections": [],
      "authorship_tag": "ABX9TyNIFQTKpXnA4wtqeMZYb5C5",
      "include_colab_link": true
    },
    "kernelspec": {
      "display_name": "Python 3",
      "name": "python3"
    },
    "language_info": {
      "name": "python"
    }
  },
  "cells": [
    {
      "cell_type": "markdown",
      "metadata": {
        "id": "view-in-github",
        "colab_type": "text"
      },
      "source": [
        "<a href=\"https://colab.research.google.com/github/xiaohua2003/Database-python/blob/master/python_exercise.ipynb\" target=\"_parent\"><img src=\"https://colab.research.google.com/assets/colab-badge.svg\" alt=\"Open In Colab\"/></a>"
      ]
    },
    {
      "cell_type": "code",
      "metadata": {
        "colab": {
          "base_uri": "https://localhost:8080/"
        },
        "id": "kxW2OXA0TyXC",
        "outputId": "51b1686b-e8e3-4962-c984-99c146e3653d"
      },
      "source": [
        "def capitalize_or_join_words(sentence):\n",
        "    \"\"\"\n",
        "    If the given sentence starts with *, capitalizes the first and last letters of each word in the sentence,\n",
        "    and returns the sentence without *.\n",
        "    Else, joins all the words in the given sentence, separating them with a comma, and returns the result.\n",
        "\n",
        "    For example:\n",
        "    - If we call capitalize_or_join_words(\"*i love python\"), we'll get \"I LovE PythoN\" in return.\n",
        "    - If we call capitalize_or_join_words(\"i love python\"), we'll get \"i,love,python\" in return.\n",
        "    - If we call capitalize_or_join_words(\"i love    python  \"), we'll get \"i,love,python\" in return.\n",
        "\n",
        "    Hint(s):\n",
        "    - The startswith() function checks whether a string starts with a particualr character\n",
        "    - The capitalize() function capitalizes the first letter of a string\n",
        "    - The upper() function converts all lowercase characters in a string to uppercase\n",
        "    - The join() function creates a single string from a list of multiple strings\n",
        "    \"\"\"\n",
        "    # your code here\n",
        "    if sentence.startswith(\"*\"):\n",
        "        sentence=sentence.title()\n",
        "        result=\"\"\n",
        "        for word in sentence.split():\n",
        "            result += word[:-1] + word[-1].upper() + \" \"\n",
        "        return result[1:-1] \n",
        "    else:\n",
        "        result=\"\"\n",
        "        for word in sentence.split():\n",
        "            result += word+ \",\"\n",
        "        return result[:-1]       \n",
        "print(capitalize_or_join_words(\"i love   python\"))\n",
        "    "
      ],
      "execution_count": 93,
      "outputs": [
        {
          "output_type": "stream",
          "text": [
            "i,love,python\n"
          ],
          "name": "stdout"
        }
      ]
    },
    {
      "cell_type": "code",
      "metadata": {
        "colab": {
          "base_uri": "https://localhost:8080/"
        },
        "id": "XCqXQygazpew",
        "outputId": "5e7623b5-6728-4fe3-e265-20e9805a1268"
      },
      "source": [
        "def move_zero(lst):\n",
        "    \"\"\"\n",
        "    Given a list of integers, moves all non-zero numbers to the beginning of the list and\n",
        "    moves all zeros to the end of the list.  This function returns nothing and changes the given list itself.\n",
        "\n",
        "    For example:\n",
        "    - After calling move_zero([0,1,0,2,0,3,0,4]), the given list should be [1,2,3,4,0,0,0,0] and the function returns nothing\n",
        "    - After calling move_zero([0,1,2,0,1]), the given list should be [1,2,1,0,0] and the function returns nothing\n",
        "    - After calling move_zero([1,2,3,4,5,6,7,8]), the given list should be [1,2,3,4,5,6,7,8] and the function returns nothing\n",
        "    - After calling move_zero([]), the given list should be [] and the function returns nothing\n",
        "    \"\"\"\n",
        "    # your code here\n",
        "    if len(lst)==0:\n",
        "        return []\n",
        "    k=0\n",
        "    for i in range(len(lst)):\n",
        "        if lst[i]!=0:\n",
        "            lst[k]=lst[i]\n",
        "            k+=1\n",
        "    for j in range(k,len(lst)):\n",
        "        lst[j]=0\n",
        "        j+=1\n",
        "    print(lst) \n",
        "print(move_zero([0,1,0,2,0,3,0,4]))\n",
        "       \n",
        "    \n",
        "    \n",
        "    "
      ],
      "execution_count": 94,
      "outputs": [
        {
          "output_type": "stream",
          "text": [
            "[1, 2, 3, 4, 0, 0, 0, 0]\n",
            "None\n"
          ],
          "name": "stdout"
        }
      ]
    },
    {
      "cell_type": "code",
      "metadata": {
        "id": "42rcEelCyRZt"
      },
      "source": [
        ""
      ],
      "execution_count": null,
      "outputs": []
    }
  ]
}