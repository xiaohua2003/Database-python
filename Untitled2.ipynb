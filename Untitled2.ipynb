{
  "nbformat": 4,
  "nbformat_minor": 0,
  "metadata": {
    "colab": {
      "name": "Untitled2.ipynb",
      "provenance": [],
      "collapsed_sections": [],
      "authorship_tag": "ABX9TyOmx7Uv4pOcPYx+lm4hpiB9",
      "include_colab_link": true
    },
    "kernelspec": {
      "display_name": "Python 3",
      "name": "python3"
    },
    "language_info": {
      "name": "python"
    }
  },
  "cells": [
    {
      "cell_type": "markdown",
      "metadata": {
        "id": "view-in-github",
        "colab_type": "text"
      },
      "source": [
        "<a href=\"https://colab.research.google.com/github/xiaohua2003/Database-python/blob/master/Untitled2.ipynb\" target=\"_parent\"><img src=\"https://colab.research.google.com/assets/colab-badge.svg\" alt=\"Open In Colab\"/></a>"
      ]
    },
    {
      "cell_type": "code",
      "metadata": {
        "colab": {
          "base_uri": "https://localhost:8080/"
        },
        "id": "te3pbxN8hkc2",
        "outputId": "3b7460b5-0e72-4d1e-9be9-ef87577287af"
      },
      "source": [
        "def isPrime(x):\n",
        "    \"\"\"Returns whether or not the given number x is prime.\n",
        "\n",
        "    A prime number is a natural number greater than 1 that cannot be formed\n",
        "    by multiplying two smaller natural numbers.\n",
        "\n",
        "    For example:\n",
        "    - Calling isPrime(11) will return True\n",
        "    - Calling isPrime(71) will return True\n",
        "    - Calling isPrime(12) will return False\n",
        "    - Calling isPrime(76) will return False\n",
        "    \"\"\"\n",
        "    \n",
        "    # your code here\n",
        "    if x>1:\n",
        "        # check for factors\n",
        "        for i in range(2, x):\n",
        "            if(x%i)==0:\n",
        "                return False\n",
        "                break\n",
        "        else:\n",
        "            return True\n",
        "               \n",
        "    # if x is equal or less than 1, it is not a prime number.\n",
        "    else:\n",
        "        return False\n",
        "isPrime(76)"
      ],
      "execution_count": 34,
      "outputs": [
        {
          "output_type": "execute_result",
          "data": {
            "text/plain": [
              "False"
            ]
          },
          "metadata": {
            "tags": []
          },
          "execution_count": 34
        }
      ]
    },
    {
      "cell_type": "code",
      "metadata": {
        "colab": {
          "base_uri": "https://localhost:8080/"
        },
        "id": "bu-B304Covmt",
        "outputId": "e5a740f5-b8b4-4c47-baa9-fee8d1279de2"
      },
      "source": [
        "def isComposite(x):\n",
        "    \"\"\"Returns whether or not the given number x is composite.\n",
        "\n",
        "    A composite number has more than 2 factors.\n",
        "    A natural number greater than 1 that is not prime is called a composite number.\n",
        "    Note, the number 1 is neither prime nor composite.\n",
        "\n",
        "    For example:\n",
        "    - Calling isComposite(9) will return True\n",
        "    - Calling isComposite(22) will return True\n",
        "    - Calling isComposite(3) will return False\n",
        "    - Calling isComposite(41) will return False\n",
        "    \"\"\"\n",
        "    \n",
        "    # your code here\n",
        "    if x>1:\n",
        "        #check for factors\n",
        "        for i in range(2, x):\n",
        "            if (x % i) == 0:\n",
        "                return True\n",
        "                break\n",
        "        else:\n",
        "            return False\n",
        "    else:\n",
        "        #x is less than or equal to 1 is not a composite\n",
        "        return False\n",
        "isComposite(41)"
      ],
      "execution_count": 32,
      "outputs": [
        {
          "output_type": "execute_result",
          "data": {
            "text/plain": [
              "False"
            ]
          },
          "metadata": {
            "tags": []
          },
          "execution_count": 32
        }
      ]
    },
    {
      "cell_type": "code",
      "metadata": {
        "colab": {
          "base_uri": "https://localhost:8080/"
        },
        "id": "LqYpp0QTSaAr",
        "outputId": "5bf4559d-35e0-42ff-9a53-527cc09ed3ae"
      },
      "source": [
        "def isPerfect(x):\n",
        "    \"\"\"Returns whether or not the given number x is perfect.\n",
        "\n",
        "    A number is said to be perfect if it is equal to the sum of all its\n",
        "    factors (for obvious reasons the list of factors being considered does\n",
        "    not include the number itself).\n",
        "\n",
        "    Example: 6 = 3 + 2 + 1, hence 6 is perfect.\n",
        "    Example: 28 is another example since 1 + 2 + 4 + 7 + 14 is 28.\n",
        "    Note, the number 1 is not a perfect number.\n",
        "    \"\"\"\n",
        "    \n",
        "    # your code here\n",
        "    sum=0\n",
        "    for i in range(1, x):\n",
        "        if (x % i == 0):\n",
        "            sum=sum+i\n",
        "    if (sum == x):\n",
        "        return True\n",
        "    else:\n",
        "        return False\n",
        "isPerfect(2)\n",
        "            \n",
        "        "
      ],
      "execution_count": 35,
      "outputs": [
        {
          "output_type": "execute_result",
          "data": {
            "text/plain": [
              "False"
            ]
          },
          "metadata": {
            "tags": []
          },
          "execution_count": 35
        }
      ]
    }
  ]
}