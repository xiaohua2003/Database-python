{
  "nbformat": 4,
  "nbformat_minor": 0,
  "metadata": {
    "colab": {
      "name": "Untitled2.ipynb",
      "provenance": [],
      "collapsed_sections": [],
      "authorship_tag": "ABX9TyOJRiji1PckEKgk9Qj4XGdM",
      "include_colab_link": true
    },
    "kernelspec": {
      "display_name": "Python 3",
      "name": "python3"
    },
    "language_info": {
      "name": "python"
    }
  },
  "cells": [
    {
      "cell_type": "markdown",
      "metadata": {
        "id": "view-in-github",
        "colab_type": "text"
      },
      "source": [
        "<a href=\"https://colab.research.google.com/github/xiaohua2003/Database-python/blob/master/Untitled2.ipynb\" target=\"_parent\"><img src=\"https://colab.research.google.com/assets/colab-badge.svg\" alt=\"Open In Colab\"/></a>"
      ]
    },
    {
      "cell_type": "code",
      "metadata": {
        "colab": {
          "base_uri": "https://localhost:8080/"
        },
        "id": "te3pbxN8hkc2",
        "outputId": "fcc11557-672c-4e32-a2ef-80dbc5deeaf7"
      },
      "source": [
        "def isPrime(x):\n",
        "  # Program to check if a number is prime or not\n",
        "\n",
        "  # To take input from the user\n",
        "  #num = int(input(\"Enter a number: \"))\n",
        "\n",
        "  # prime numbers are greater than 1\n",
        "  if x > 1:\n",
        "    # check for factors\n",
        "    for i in range(2,x):\n",
        "        if (x % i) == 0:\n",
        "            print(\"False\")\n",
        "            break\n",
        "    else:\n",
        "        print(\"True\")\n",
        "        \n",
        "  # if input number is less than\n",
        "  # or equal to 1, it is not prime\n",
        "  else:\n",
        "    print(\"False\")\n",
        "isPrime(2)\n",
        "\n",
        "          "
      ],
      "execution_count": 8,
      "outputs": [
        {
          "output_type": "stream",
          "text": [
            "True\n"
          ],
          "name": "stdout"
        }
      ]
    },
    {
      "cell_type": "code",
      "metadata": {
        "id": "UAou0n3mHfEg"
      },
      "source": [
        ""
      ],
      "execution_count": null,
      "outputs": []
    },
    {
      "cell_type": "code",
      "metadata": {
        "colab": {
          "background_save": true
        },
        "id": "bu-B304Covmt",
        "outputId": "8354c1f2-960b-47c6-af57-5c7fd3baedde"
      },
      "source": [
        "password=input(\"plese input the password\")\n",
        "while password != 'secret':\n",
        "  print(\"try again\")\n",
        "  password=input(\"please input the password\")\n",
        "else:\n",
        "  print('welcome')\n"
      ],
      "execution_count": null,
      "outputs": [
        {
          "output_type": "error",
          "ename": "SyntaxError",
          "evalue": "ignored",
          "traceback": [
            "\u001b[0;36m  File \u001b[0;32m\"<ipython-input-1-b7fcb942f0b0>\"\u001b[0;36m, line \u001b[0;32m2\u001b[0m\n\u001b[0;31m    while password ! = 'secret':\u001b[0m\n\u001b[0m                   ^\u001b[0m\n\u001b[0;31mSyntaxError\u001b[0m\u001b[0;31m:\u001b[0m invalid syntax\n"
          ]
        }
      ]
    }
  ]
}