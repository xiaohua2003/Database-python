{
  "nbformat": 4,
  "nbformat_minor": 0,
  "metadata": {
    "colab": {
      "name": "Untitled2.ipynb",
      "provenance": [],
      "collapsed_sections": [],
      "authorship_tag": "ABX9TyP0by94h+cAonk3hodh/l52",
      "include_colab_link": true
    },
    "kernelspec": {
      "display_name": "Python 3",
      "name": "python3"
    },
    "language_info": {
      "name": "python"
    }
  },
  "cells": [
    {
      "cell_type": "markdown",
      "metadata": {
        "id": "view-in-github",
        "colab_type": "text"
      },
      "source": [
        "<a href=\"https://colab.research.google.com/github/xiaohua2003/Database-python/blob/master/Untitled2.ipynb\" target=\"_parent\"><img src=\"https://colab.research.google.com/assets/colab-badge.svg\" alt=\"Open In Colab\"/></a>"
      ]
    },
    {
      "cell_type": "code",
      "metadata": {
        "id": "kxW2OXA0TyXC",
        "outputId": "6326ece3-6e42-4c18-b306-7206e9e4a6e9",
        "colab": {
          "base_uri": "https://localhost:8080/"
        }
      },
      "source": [
        "def capitalize(s):\n",
        "     result=\" \"\n",
        "     s= s.title()\n",
        "     for word in s.split():\n",
        "        result += word[:-1] + word[-1].upper() + \" \"\n",
        "     return result     #To remove the last trailing space.\n",
        "\n",
        "print (capitalize(\"i like cats\"))"
      ],
      "execution_count": 87,
      "outputs": [
        {
          "output_type": "stream",
          "text": [
            " I LikE CatS \n"
          ],
          "name": "stdout"
        }
      ]
    }
  ]
}