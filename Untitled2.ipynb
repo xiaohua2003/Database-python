{
  "nbformat": 4,
  "nbformat_minor": 0,
  "metadata": {
    "colab": {
      "name": "Untitled2.ipynb",
      "provenance": [],
      "collapsed_sections": [],
      "authorship_tag": "ABX9TyMSh+2fifDT03P9T6dQ3wkp",
      "include_colab_link": true
    },
    "kernelspec": {
      "display_name": "Python 3",
      "name": "python3"
    },
    "language_info": {
      "name": "python"
    }
  },
  "cells": [
    {
      "cell_type": "markdown",
      "metadata": {
        "id": "view-in-github",
        "colab_type": "text"
      },
      "source": [
        "<a href=\"https://colab.research.google.com/github/xiaohua2003/Database-python/blob/master/Untitled2.ipynb\" target=\"_parent\"><img src=\"https://colab.research.google.com/assets/colab-badge.svg\" alt=\"Open In Colab\"/></a>"
      ]
    },
    {
      "cell_type": "code",
      "metadata": {
        "colab": {
          "base_uri": "https://localhost:8080/"
        },
        "id": "te3pbxN8hkc2",
        "outputId": "1009ad32-12e9-46bb-b62b-37472d9ea0f5"
      },
      "source": [
        "def isComposite(x):\n",
        "    \"\"\"Returns whether or not the given number x is composite.\n",
        "\n",
        "    A composite number has more than 2 factors.\n",
        "    A natural number greater than 1 that is not prime is called a composite number.\n",
        "    Note, the number 1 is neither prime nor composite.\n",
        "\n",
        "    For example:\n",
        "    - Calling isComposite(9) will return True\n",
        "    - Calling isComposite(22) will return True\n",
        "    - Calling isComposite(3) will return False\n",
        "    - Calling isComposite(41) will return False\n",
        "    \"\"\"\n",
        "\n",
        "    # your code here\n",
        "    if x > 1:\n",
        "        # check for factors\n",
        "        for i in range(2, x):\n",
        "            if (x % i) == 0:\n",
        "                print(\"x is composite\")\n",
        "                break\n",
        "            else:\n",
        "                return False\n",
        "    else:\n",
        "        # x is less than or equal to 1 is not a composite\n",
        "        return False\n",
        "\n",
        "\n",
        "isComposite(9)\n",
        "          "
      ],
      "execution_count": 31,
      "outputs": [
        {
          "output_type": "execute_result",
          "data": {
            "text/plain": [
              "False"
            ]
          },
          "metadata": {
            "tags": []
          },
          "execution_count": 31
        }
      ]
    },
    {
      "cell_type": "code",
      "metadata": {
        "id": "UAou0n3mHfEg"
      },
      "source": [
        ""
      ],
      "execution_count": null,
      "outputs": []
    },
    {
      "cell_type": "code",
      "metadata": {
        "colab": {
          "base_uri": "https://localhost:8080/"
        },
        "id": "bu-B304Covmt",
        "outputId": "e5a740f5-b8b4-4c47-baa9-fee8d1279de2"
      },
      "source": [
        "def isComposite(x):\n",
        "    \"\"\"Returns whether or not the given number x is composite.\n",
        "\n",
        "    A composite number has more than 2 factors.\n",
        "    A natural number greater than 1 that is not prime is called a composite number.\n",
        "    Note, the number 1 is neither prime nor composite.\n",
        "\n",
        "    For example:\n",
        "    - Calling isComposite(9) will return True\n",
        "    - Calling isComposite(22) will return True\n",
        "    - Calling isComposite(3) will return False\n",
        "    - Calling isComposite(41) will return False\n",
        "    \"\"\"\n",
        "    \n",
        "    # your code here\n",
        "    if x>1:\n",
        "        #check for factors\n",
        "        for i in range(2, x):\n",
        "            if (x % i) == 0:\n",
        "                return True\n",
        "                break\n",
        "        else:\n",
        "            return False\n",
        "    else:\n",
        "        #x is less than or equal to 1 is not a composite\n",
        "        return False\n",
        "isComposite(41)"
      ],
      "execution_count": 32,
      "outputs": [
        {
          "output_type": "execute_result",
          "data": {
            "text/plain": [
              "False"
            ]
          },
          "metadata": {
            "tags": []
          },
          "execution_count": 32
        }
      ]
    }
  ]
}