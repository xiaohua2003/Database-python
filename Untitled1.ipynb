{
  "nbformat": 4,
  "nbformat_minor": 0,
  "metadata": {
    "colab": {
      "name": "Untitled1.ipynb",
      "provenance": [],
      "authorship_tag": "ABX9TyPDfgoAuecQ3LyaVVMxvTFZ",
      "include_colab_link": true
    },
    "kernelspec": {
      "name": "python3",
      "display_name": "Python 3"
    },
    "language_info": {
      "name": "python"
    }
  },
  "cells": [
    {
      "cell_type": "markdown",
      "metadata": {
        "id": "view-in-github",
        "colab_type": "text"
      },
      "source": [
        "<a href=\"https://colab.research.google.com/github/xiaohua2003/Database-python/blob/master/Untitled1.ipynb\" target=\"_parent\"><img src=\"https://colab.research.google.com/assets/colab-badge.svg\" alt=\"Open In Colab\"/></a>"
      ]
    },
    {
      "cell_type": "code",
      "metadata": {
        "id": "zi2UKTrvWSQJ"
      },
      "source": [
        "import traceback\n",
        "\n",
        "def calculator():\n",
        "    \n",
        "    # Get dog age\n",
        "    age = input(\"Input dog years: \")\n",
        "\n",
        "    try:\n",
        "        # Cast to float\n",
        "        d_age = float(age)\n",
        "\n",
        "        # If user enters negative number, print message\n",
        "        # Otherwise, calculate dog's age in human years\n",
        "    \n",
        "        # your code here\n",
        "        human_age=0\n",
        "        if d_age<0:\n",
        "            flag=true\n",
        "        elif d_age<1:\n",
        "            human_age=d_age*15\n",
        "        elif d_age<2:\n",
        "            human_age=d_age*12\n",
        "        elif d_age<3:\n",
        "            human_age=d_age*9.3\n",
        "        elif d_age<4:\n",
        "            human_age=d_age*8\n",
        "        elif d_age<5:\n",
        "            human_age=d_age*7.2\n",
        "        else:\n",
        "            human_age=5*7.2+(d_age-5)*7\n",
        "    except:\n",
        "        print(age, \"is an invalid age.\")\n",
        "        print(traceback.format_exc())\n",
        "    \n",
        "calculator() # This line calls the calculator function"
      ],
      "execution_count": null,
      "outputs": []
    }
  ]
}