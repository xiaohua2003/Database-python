{
  "nbformat": 4,
  "nbformat_minor": 0,
  "metadata": {
    "colab": {
      "name": "Untitled2.ipynb",
      "provenance": [],
      "collapsed_sections": [],
      "authorship_tag": "ABX9TyN4oGe4rzI+ZvOW2agbYlqa",
      "include_colab_link": true
    },
    "kernelspec": {
      "display_name": "Python 3",
      "name": "python3"
    },
    "language_info": {
      "name": "python"
    }
  },
  "cells": [
    {
      "cell_type": "markdown",
      "metadata": {
        "id": "view-in-github",
        "colab_type": "text"
      },
      "source": [
        "<a href=\"https://colab.research.google.com/github/xiaohua2003/Database-python/blob/master/python-banking-system.ipynb\" target=\"_parent\"><img src=\"https://colab.research.google.com/assets/colab-badge.svg\" alt=\"Open In Colab\"/></a>"
      ]
    },
    {
      "cell_type": "code",
      "metadata": {
        "id": "bu-B304Covmt"
      },
      "source": [
        "# function valid to check for password validity\n",
        "def valid(password):\n",
        "    # length of password>=8\n",
        "    if len(password)<8:\n",
        "        return False\n",
        "    # atleast one lowercase, one uppercase, one number\n",
        "    # defining flag for each property\n",
        "    uflag = False\n",
        "    lflag = False\n",
        "    dflag = False\n",
        "    # looping through each character and checking their property\n",
        "    for p in password:\n",
        "        # checking if p is digit\n",
        "        if p.isdigit():\n",
        "            dflag = True\n",
        "        # checking for lower case\n",
        "        elif p.islower():\n",
        "            lflag = True\n",
        "        # checking for upper case\n",
        "        elif p.isupper():\n",
        "            uflag = True\n",
        "            \n",
        "    # if any of above flag is False return False else True\n",
        "    return (uflag and lflag and dflag)\n",
        "    \n",
        "# function signup\n",
        "def signup(user_accounts, log_in, username, password):\n",
        "    # checking if username already exist in user_accounts, returning username\n",
        "    if username in user_accounts:\n",
        "        return False\n",
        "    # checking if username and password is same\n",
        "    if username == password:\n",
        "        return False\n",
        "    # checking if password doesnot fullfill requirements, using valid function\n",
        "    if not valid(password):\n",
        "        return False\n",
        "    \n",
        "    # otherwise, adding username and password in user_accounts and returning True\n",
        "    user_accounts[username] = password\n",
        "    # add log_in username to False\n",
        "    log_in[username] = False\n",
        "    \n",
        "    return True\n"
      ],
      "execution_count": 6,
      "outputs": []
    },
    {
      "cell_type": "code",
      "metadata": {
        "id": "iSKkmAOtCCxf"
      },
      "source": [
        "# function import_and_create_accounts(filename)\n",
        "def import_and_create_accounts(filename):\n",
        "    # opening file\n",
        "    file = open(filename)\n",
        "    \n",
        "    # defining empty user_accounts and log_in dict\n",
        "    user_accounts = {}\n",
        "    log_in = {}\n",
        "    \n",
        "    # reading file line by line\n",
        "    for line in file:\n",
        "        # extracting username - password from the file using split method of string\n",
        "        username,password = line.split(\" - \")\n",
        "        # using signup function to add username and password in user_accounts\n",
        "        signup(user_accounts, log_in, username, password)\n",
        "            \n",
        "    # closing file\n",
        "    file.close()\n",
        "    # returning dicts\n",
        "    return user_accounts,log_in\n",
        "\n",
        "# function login\n",
        "def login(user_accounts, log_in, username, password):\n",
        "    # checking if username in user_accounts and password is matched \n",
        "    if (username not in user_accounts) or (user_accounts[username]!=password):\n",
        "        return False\n",
        "    # checking if user already loged in\n",
        "    if log_in[username]:\n",
        "        return False"
      ],
      "execution_count": null,
      "outputs": []
    }
  ]
}